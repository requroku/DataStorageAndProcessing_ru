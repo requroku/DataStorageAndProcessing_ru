{
 "cells": [
  {
   "cell_type": "markdown",
   "source": [
    "# Упражнение 2.1\r\n",
    "Этот элемент курса оценивается как 'Упражнение 2'\r\n",
    "вес: 1.0\r\n",
    "\r\n",
    "1) [Скачайте данные](https://www.finam.ru/profile/mosbirzha-fyuchersy/spfb-rts-12-18-riz8/export/?market=17) с сайта Московской фьючерсной биржи по контракту SPFB.RTS-12.18 (RIZ8) с 1 сентября по 31 декабря 2018 года с минутным интервалом. В файле должны присутствовать следующие поля:\r\n",
    "\r\n",
    "    <DATE> Дата проведения торгов\r\n",
    "    <TIME> Время, соответствующее началу минутного интервала\r\n",
    "    <OPEN> Цена открытия, т.е. цена первой сделки \r\n",
    "    <HIGH> Максимальная цена сделки за выбранный интервал\r\n",
    "    <LOW> Минимальная цена сделки за выбранный интервал\r\n",
    "    <CLOSE> Цена закрытия, т.е. цена последней сделки\r\n",
    "    <VOL> Объем торгов за выбранный интервал\r\n",
    "\r\n",
    "2) Для каждого минутного интервала сосчитайте среднюю цену (PRICE), усреднив цену открытия, закрытия, минимума и максимума.\r\n",
    "\r\n",
    "3) Для каждого минутного интервала вычислите оборот по совершенным сделкам, умножив среднюю цену (PRICE) на объем (VOL).\r\n",
    "\r\n",
    "Рекомендуем ознакомиться с [инструкцией](./data/Упражнение_по_сводным_таблицам.pdf) по построению сводной таблицы."
   ],
   "metadata": {}
  },
  {
   "cell_type": "code",
   "execution_count": 1,
   "source": [
    "import matplotlib.pyplot as plt\r\n",
    "import pandas as pd\r\n",
    "df = pd.read_csv('./data/SPFB.RTS-12.18_180901_181231.csv')\r\n",
    "#df.info()\r\n",
    "df"
   ],
   "outputs": [
    {
     "output_type": "execute_result",
     "data": {
      "text/html": [
       "<div>\n",
       "<style scoped>\n",
       "    .dataframe tbody tr th:only-of-type {\n",
       "        vertical-align: middle;\n",
       "    }\n",
       "\n",
       "    .dataframe tbody tr th {\n",
       "        vertical-align: top;\n",
       "    }\n",
       "\n",
       "    .dataframe thead th {\n",
       "        text-align: right;\n",
       "    }\n",
       "</style>\n",
       "<table border=\"1\" class=\"dataframe\">\n",
       "  <thead>\n",
       "    <tr style=\"text-align: right;\">\n",
       "      <th></th>\n",
       "      <th>&lt;TICKER&gt;</th>\n",
       "      <th>&lt;PER&gt;</th>\n",
       "      <th>&lt;DATE&gt;</th>\n",
       "      <th>&lt;TIME&gt;</th>\n",
       "      <th>&lt;OPEN&gt;</th>\n",
       "      <th>&lt;HIGH&gt;</th>\n",
       "      <th>&lt;LOW&gt;</th>\n",
       "      <th>&lt;CLOSE&gt;</th>\n",
       "      <th>&lt;VOL&gt;</th>\n",
       "    </tr>\n",
       "  </thead>\n",
       "  <tbody>\n",
       "    <tr>\n",
       "      <th>0</th>\n",
       "      <td>SPFB.RTS-12.18</td>\n",
       "      <td>1</td>\n",
       "      <td>03/09/18</td>\n",
       "      <td>10:01</td>\n",
       "      <td>107900.0</td>\n",
       "      <td>108060.0</td>\n",
       "      <td>107900.0</td>\n",
       "      <td>108030.0</td>\n",
       "      <td>3</td>\n",
       "    </tr>\n",
       "    <tr>\n",
       "      <th>1</th>\n",
       "      <td>SPFB.RTS-12.18</td>\n",
       "      <td>1</td>\n",
       "      <td>03/09/18</td>\n",
       "      <td>10:02</td>\n",
       "      <td>107960.0</td>\n",
       "      <td>107960.0</td>\n",
       "      <td>107960.0</td>\n",
       "      <td>107960.0</td>\n",
       "      <td>5</td>\n",
       "    </tr>\n",
       "    <tr>\n",
       "      <th>2</th>\n",
       "      <td>SPFB.RTS-12.18</td>\n",
       "      <td>1</td>\n",
       "      <td>03/09/18</td>\n",
       "      <td>10:04</td>\n",
       "      <td>108000.0</td>\n",
       "      <td>108000.0</td>\n",
       "      <td>108000.0</td>\n",
       "      <td>108000.0</td>\n",
       "      <td>8</td>\n",
       "    </tr>\n",
       "    <tr>\n",
       "      <th>3</th>\n",
       "      <td>SPFB.RTS-12.18</td>\n",
       "      <td>1</td>\n",
       "      <td>03/09/18</td>\n",
       "      <td>10:05</td>\n",
       "      <td>108000.0</td>\n",
       "      <td>108000.0</td>\n",
       "      <td>108000.0</td>\n",
       "      <td>108000.0</td>\n",
       "      <td>1</td>\n",
       "    </tr>\n",
       "    <tr>\n",
       "      <th>4</th>\n",
       "      <td>SPFB.RTS-12.18</td>\n",
       "      <td>1</td>\n",
       "      <td>03/09/18</td>\n",
       "      <td>10:08</td>\n",
       "      <td>108080.0</td>\n",
       "      <td>108080.0</td>\n",
       "      <td>108080.0</td>\n",
       "      <td>108080.0</td>\n",
       "      <td>1</td>\n",
       "    </tr>\n",
       "    <tr>\n",
       "      <th>...</th>\n",
       "      <td>...</td>\n",
       "      <td>...</td>\n",
       "      <td>...</td>\n",
       "      <td>...</td>\n",
       "      <td>...</td>\n",
       "      <td>...</td>\n",
       "      <td>...</td>\n",
       "      <td>...</td>\n",
       "      <td>...</td>\n",
       "    </tr>\n",
       "    <tr>\n",
       "      <th>58965</th>\n",
       "      <td>SPFB.RTS-12.18</td>\n",
       "      <td>1</td>\n",
       "      <td>20/12/18</td>\n",
       "      <td>18:40</td>\n",
       "      <td>109380.0</td>\n",
       "      <td>109380.0</td>\n",
       "      <td>109380.0</td>\n",
       "      <td>109380.0</td>\n",
       "      <td>1</td>\n",
       "    </tr>\n",
       "    <tr>\n",
       "      <th>58966</th>\n",
       "      <td>SPFB.RTS-12.18</td>\n",
       "      <td>1</td>\n",
       "      <td>20/12/18</td>\n",
       "      <td>18:41</td>\n",
       "      <td>109380.0</td>\n",
       "      <td>109390.0</td>\n",
       "      <td>109380.0</td>\n",
       "      <td>109390.0</td>\n",
       "      <td>10</td>\n",
       "    </tr>\n",
       "    <tr>\n",
       "      <th>58967</th>\n",
       "      <td>SPFB.RTS-12.18</td>\n",
       "      <td>1</td>\n",
       "      <td>20/12/18</td>\n",
       "      <td>18:43</td>\n",
       "      <td>109380.0</td>\n",
       "      <td>109390.0</td>\n",
       "      <td>109380.0</td>\n",
       "      <td>109390.0</td>\n",
       "      <td>12</td>\n",
       "    </tr>\n",
       "    <tr>\n",
       "      <th>58968</th>\n",
       "      <td>SPFB.RTS-12.18</td>\n",
       "      <td>1</td>\n",
       "      <td>20/12/18</td>\n",
       "      <td>18:44</td>\n",
       "      <td>109390.0</td>\n",
       "      <td>109390.0</td>\n",
       "      <td>109390.0</td>\n",
       "      <td>109390.0</td>\n",
       "      <td>3</td>\n",
       "    </tr>\n",
       "    <tr>\n",
       "      <th>58969</th>\n",
       "      <td>SPFB.RTS-12.18</td>\n",
       "      <td>1</td>\n",
       "      <td>20/12/18</td>\n",
       "      <td>18:45</td>\n",
       "      <td>109390.0</td>\n",
       "      <td>109390.0</td>\n",
       "      <td>109380.0</td>\n",
       "      <td>109380.0</td>\n",
       "      <td>3</td>\n",
       "    </tr>\n",
       "  </tbody>\n",
       "</table>\n",
       "<p>58970 rows × 9 columns</p>\n",
       "</div>"
      ],
      "text/plain": [
       "             <TICKER>  <PER>    <DATE> <TIME>    <OPEN>    <HIGH>     <LOW>  \\\n",
       "0      SPFB.RTS-12.18      1  03/09/18  10:01  107900.0  108060.0  107900.0   \n",
       "1      SPFB.RTS-12.18      1  03/09/18  10:02  107960.0  107960.0  107960.0   \n",
       "2      SPFB.RTS-12.18      1  03/09/18  10:04  108000.0  108000.0  108000.0   \n",
       "3      SPFB.RTS-12.18      1  03/09/18  10:05  108000.0  108000.0  108000.0   \n",
       "4      SPFB.RTS-12.18      1  03/09/18  10:08  108080.0  108080.0  108080.0   \n",
       "...               ...    ...       ...    ...       ...       ...       ...   \n",
       "58965  SPFB.RTS-12.18      1  20/12/18  18:40  109380.0  109380.0  109380.0   \n",
       "58966  SPFB.RTS-12.18      1  20/12/18  18:41  109380.0  109390.0  109380.0   \n",
       "58967  SPFB.RTS-12.18      1  20/12/18  18:43  109380.0  109390.0  109380.0   \n",
       "58968  SPFB.RTS-12.18      1  20/12/18  18:44  109390.0  109390.0  109390.0   \n",
       "58969  SPFB.RTS-12.18      1  20/12/18  18:45  109390.0  109390.0  109380.0   \n",
       "\n",
       "        <CLOSE>  <VOL>  \n",
       "0      108030.0      3  \n",
       "1      107960.0      5  \n",
       "2      108000.0      8  \n",
       "3      108000.0      1  \n",
       "4      108080.0      1  \n",
       "...         ...    ...  \n",
       "58965  109380.0      1  \n",
       "58966  109390.0     10  \n",
       "58967  109390.0     12  \n",
       "58968  109390.0      3  \n",
       "58969  109380.0      3  \n",
       "\n",
       "[58970 rows x 9 columns]"
      ]
     },
     "metadata": {},
     "execution_count": 1
    }
   ],
   "metadata": {}
  },
  {
   "cell_type": "code",
   "execution_count": 2,
   "source": [
    "# Convert date from string to Datetime format\r\n",
    "df['<DATE>'] = pd.to_datetime(df['<DATE>'], dayfirst=True)"
   ],
   "outputs": [],
   "metadata": {}
  },
  {
   "cell_type": "code",
   "execution_count": 3,
   "source": [
    "# Mean <PRICE> in 1 minute\r\n",
    "df['<PRICE>'] = (df['<OPEN>'] + df['<CLOSE>'] + df['<LOW>'] + df['<HIGH>']) / 4\r\n",
    "\r\n",
    "# Mean turnover in 1 minute\r\n",
    "df['<TOTAL>'] = df['<PRICE>'] * df['<VOL>']\r\n",
    "\r\n",
    "# Print necessary columns\r\n",
    "df.loc[:, ['<PRICE>', '<TOTAL>']]"
   ],
   "outputs": [
    {
     "output_type": "execute_result",
     "data": {
      "text/html": [
       "<div>\n",
       "<style scoped>\n",
       "    .dataframe tbody tr th:only-of-type {\n",
       "        vertical-align: middle;\n",
       "    }\n",
       "\n",
       "    .dataframe tbody tr th {\n",
       "        vertical-align: top;\n",
       "    }\n",
       "\n",
       "    .dataframe thead th {\n",
       "        text-align: right;\n",
       "    }\n",
       "</style>\n",
       "<table border=\"1\" class=\"dataframe\">\n",
       "  <thead>\n",
       "    <tr style=\"text-align: right;\">\n",
       "      <th></th>\n",
       "      <th>&lt;PRICE&gt;</th>\n",
       "      <th>&lt;TOTAL&gt;</th>\n",
       "    </tr>\n",
       "  </thead>\n",
       "  <tbody>\n",
       "    <tr>\n",
       "      <th>0</th>\n",
       "      <td>107972.5</td>\n",
       "      <td>323917.5</td>\n",
       "    </tr>\n",
       "    <tr>\n",
       "      <th>1</th>\n",
       "      <td>107960.0</td>\n",
       "      <td>539800.0</td>\n",
       "    </tr>\n",
       "    <tr>\n",
       "      <th>2</th>\n",
       "      <td>108000.0</td>\n",
       "      <td>864000.0</td>\n",
       "    </tr>\n",
       "    <tr>\n",
       "      <th>3</th>\n",
       "      <td>108000.0</td>\n",
       "      <td>108000.0</td>\n",
       "    </tr>\n",
       "    <tr>\n",
       "      <th>4</th>\n",
       "      <td>108080.0</td>\n",
       "      <td>108080.0</td>\n",
       "    </tr>\n",
       "    <tr>\n",
       "      <th>...</th>\n",
       "      <td>...</td>\n",
       "      <td>...</td>\n",
       "    </tr>\n",
       "    <tr>\n",
       "      <th>58965</th>\n",
       "      <td>109380.0</td>\n",
       "      <td>109380.0</td>\n",
       "    </tr>\n",
       "    <tr>\n",
       "      <th>58966</th>\n",
       "      <td>109385.0</td>\n",
       "      <td>1093850.0</td>\n",
       "    </tr>\n",
       "    <tr>\n",
       "      <th>58967</th>\n",
       "      <td>109385.0</td>\n",
       "      <td>1312620.0</td>\n",
       "    </tr>\n",
       "    <tr>\n",
       "      <th>58968</th>\n",
       "      <td>109390.0</td>\n",
       "      <td>328170.0</td>\n",
       "    </tr>\n",
       "    <tr>\n",
       "      <th>58969</th>\n",
       "      <td>109385.0</td>\n",
       "      <td>328155.0</td>\n",
       "    </tr>\n",
       "  </tbody>\n",
       "</table>\n",
       "<p>58970 rows × 2 columns</p>\n",
       "</div>"
      ],
      "text/plain": [
       "        <PRICE>    <TOTAL>\n",
       "0      107972.5   323917.5\n",
       "1      107960.0   539800.0\n",
       "2      108000.0   864000.0\n",
       "3      108000.0   108000.0\n",
       "4      108080.0   108080.0\n",
       "...         ...        ...\n",
       "58965  109380.0   109380.0\n",
       "58966  109385.0  1093850.0\n",
       "58967  109385.0  1312620.0\n",
       "58968  109390.0   328170.0\n",
       "58969  109385.0   328155.0\n",
       "\n",
       "[58970 rows x 2 columns]"
      ]
     },
     "metadata": {},
     "execution_count": 3
    }
   ],
   "metadata": {}
  },
  {
   "cell_type": "markdown",
   "source": [
    "### Задача 1\n",
    "Вычислите суммарный оборот по совершенным сделкам за дату: 31.10.2018.  \n",
    "<sub>***Ответ округлите до целого.***</sub>"
   ],
   "metadata": {}
  },
  {
   "cell_type": "code",
   "execution_count": 4,
   "source": [
    "# Convert to int rounded sum of <TOTAL> column where <DATE> is 31.10.2018\r\n",
    "int(round(df[df['<DATE>'] == '2018-10-31']['<TOTAL>'].sum()))"
   ],
   "outputs": [
    {
     "output_type": "execute_result",
     "data": {
      "text/plain": [
       "52285636700"
      ]
     },
     "metadata": {},
     "execution_count": 4
    }
   ],
   "metadata": {}
  },
  {
   "cell_type": "markdown",
   "source": [
    "### Задача 2\n",
    "Вычислите количество минутных интервалов за дату 29.11.2018, когда цена не менялась (цена открытия равна цене закрытия).  \n",
    "<sub>***Вычислите количество интервалов.***</sub>"
   ],
   "metadata": {}
  },
  {
   "cell_type": "code",
   "execution_count": 5,
   "source": [
    "# Count number of rows where (open price equals close price) and (date is 29.11.2018)\r\n",
    "df[(df['<OPEN>'] == df['<CLOSE>']) & (df['<DATE>'] == '2018-11-29')]['<OPEN>'].count()"
   ],
   "outputs": [
    {
     "output_type": "execute_result",
     "data": {
      "text/plain": [
       "64"
      ]
     },
     "metadata": {},
     "execution_count": 5
    }
   ],
   "metadata": {}
  },
  {
   "cell_type": "markdown",
   "source": [
    "### Задача 3\n",
    "Вычислите общий оборот по всем сделкам за все пятницы октября.  \n",
    "<sub>***Ответ округлите до целого.***</sub>"
   ],
   "metadata": {}
  },
  {
   "cell_type": "code",
   "execution_count": 6,
   "source": [
    "# October is 10th month, Friday is a 4 th day of week (Monday=0, Sunday=6)\r\n",
    "int(round(df[(df['<DATE>'].dt.month == 10) & (df['<DATE>'].dt.weekday == 4)]['<TOTAL>'].sum()))"
   ],
   "outputs": [
    {
     "output_type": "execute_result",
     "data": {
      "text/plain": [
       "252332769780"
      ]
     },
     "metadata": {},
     "execution_count": 6
    }
   ],
   "metadata": {}
  },
  {
   "cell_type": "code",
   "execution_count": null,
   "source": [],
   "outputs": [],
   "metadata": {}
  }
 ],
 "metadata": {
  "kernelspec": {
   "name": "python3",
   "display_name": "Python 3.8.2 64-bit"
  },
  "language_info": {
   "codemirror_mode": {
    "name": "ipython",
    "version": 3
   },
   "file_extension": ".py",
   "mimetype": "text/x-python",
   "name": "python",
   "nbconvert_exporter": "python",
   "pygments_lexer": "ipython3",
   "version": "3.8.2"
  },
  "interpreter": {
   "hash": "d94e015937bd227039ba2e8500cca5b2d790580f1f1e140d37a69e1731d7700c"
  }
 },
 "nbformat": 4,
 "nbformat_minor": 4
}