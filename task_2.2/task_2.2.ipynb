{
 "cells": [
  {
   "cell_type": "markdown",
   "metadata": {},
   "source": [
    "# Упражнение 2.2\n",
    "Этот элемент курса оценивается как 'Упражнение 2'  \n",
    "вес: 1.0"
   ]
  },
  {
   "cell_type": "markdown",
   "metadata": {},
   "source": [
    "## Задание\n",
    "Ехала машина по одной тихой английской дороге. На дороге была нанесена разделительная полоса, которая была то прерывистой, то сплошной, то двойной сплошной. В нашем распоряжении есть условные координаты разделительной полосы ([исходные данные](./data/car231.csv)), нанесенной на эту дорогу. Наша машина очень спешила, обгоняла другие машины, выезжая порой на встречную полосу. Все движения машины фиксировались в тех же условных координатах, правда, иногда датчик в машине давал сбои, передавая совсем неправильные координаты. Надо определить, сколько раз машина пересекала разделительную полосу каждого типа. Для этого надо проанализировать движение машины, убрать выбросы, заполнить образовавшиеся пропущенные значения, усредняя соседние координаты (по 1 координате в каждую сторону). Потом надо построить график дороги и график движения автомобиля. Чтобы на графике дороги было видно, где какая разделительная полоса, данные можно, например, разделить на несколько рядов – один для прерывистой линии, второй для сплошной, третий для двойной сплошной.\n",
    "\n",
    "Тогда можно будет сосчитать, сколько раз автомобиль пересек разделительную линию каждого типа. С примером решения Вы можете ознакомиться в этом [файле](./data/Lec2ex2.pdf)."
   ]
  },
  {
   "cell_type": "code",
   "execution_count": 135,
   "metadata": {},
   "outputs": [],
   "source": [
    "import matplotlib.pyplot as plt\n",
    "import pandas as pd\n",
    "import numpy as np"
   ]
  },
  {
   "cell_type": "code",
   "execution_count": 136,
   "metadata": {},
   "outputs": [
    {
     "data": {
      "text/html": [
       "<div>\n",
       "<style scoped>\n",
       "    .dataframe tbody tr th:only-of-type {\n",
       "        vertical-align: middle;\n",
       "    }\n",
       "\n",
       "    .dataframe tbody tr th {\n",
       "        vertical-align: top;\n",
       "    }\n",
       "\n",
       "    .dataframe thead th {\n",
       "        text-align: right;\n",
       "    }\n",
       "</style>\n",
       "<table border=\"1\" class=\"dataframe\">\n",
       "  <thead>\n",
       "    <tr style=\"text-align: right;\">\n",
       "      <th></th>\n",
       "      <th>LINE_TYPE</th>\n",
       "      <th>LINE</th>\n",
       "      <th>CAR</th>\n",
       "    </tr>\n",
       "  </thead>\n",
       "  <tbody>\n",
       "    <tr>\n",
       "      <th>0</th>\n",
       "      <td>SINGLE</td>\n",
       "      <td>500</td>\n",
       "      <td>490</td>\n",
       "    </tr>\n",
       "    <tr>\n",
       "      <th>1</th>\n",
       "      <td>SINGLE</td>\n",
       "      <td>500</td>\n",
       "      <td>490</td>\n",
       "    </tr>\n",
       "    <tr>\n",
       "      <th>2</th>\n",
       "      <td>SINGLE</td>\n",
       "      <td>500</td>\n",
       "      <td>490</td>\n",
       "    </tr>\n",
       "    <tr>\n",
       "      <th>3</th>\n",
       "      <td>SINGLE</td>\n",
       "      <td>500</td>\n",
       "      <td>490</td>\n",
       "    </tr>\n",
       "    <tr>\n",
       "      <th>4</th>\n",
       "      <td>SINGLE</td>\n",
       "      <td>500</td>\n",
       "      <td>490</td>\n",
       "    </tr>\n",
       "    <tr>\n",
       "      <th>...</th>\n",
       "      <td>...</td>\n",
       "      <td>...</td>\n",
       "      <td>...</td>\n",
       "    </tr>\n",
       "    <tr>\n",
       "      <th>495</th>\n",
       "      <td>DOUBLE</td>\n",
       "      <td>130</td>\n",
       "      <td>120</td>\n",
       "    </tr>\n",
       "    <tr>\n",
       "      <th>496</th>\n",
       "      <td>DOUBLE</td>\n",
       "      <td>131</td>\n",
       "      <td>121</td>\n",
       "    </tr>\n",
       "    <tr>\n",
       "      <th>497</th>\n",
       "      <td>DOUBLE</td>\n",
       "      <td>132</td>\n",
       "      <td>122</td>\n",
       "    </tr>\n",
       "    <tr>\n",
       "      <th>498</th>\n",
       "      <td>DOUBLE</td>\n",
       "      <td>133</td>\n",
       "      <td>123</td>\n",
       "    </tr>\n",
       "    <tr>\n",
       "      <th>499</th>\n",
       "      <td>DOUBLE</td>\n",
       "      <td>134</td>\n",
       "      <td>124</td>\n",
       "    </tr>\n",
       "  </tbody>\n",
       "</table>\n",
       "<p>500 rows × 3 columns</p>\n",
       "</div>"
      ],
      "text/plain": [
       "    LINE_TYPE  LINE  CAR\n",
       "0      SINGLE   500  490\n",
       "1      SINGLE   500  490\n",
       "2      SINGLE   500  490\n",
       "3      SINGLE   500  490\n",
       "4      SINGLE   500  490\n",
       "..        ...   ...  ...\n",
       "495    DOUBLE   130  120\n",
       "496    DOUBLE   131  121\n",
       "497    DOUBLE   132  122\n",
       "498    DOUBLE   133  123\n",
       "499    DOUBLE   134  124\n",
       "\n",
       "[500 rows x 3 columns]"
      ]
     },
     "execution_count": 136,
     "metadata": {},
     "output_type": "execute_result"
    }
   ],
   "source": [
    "df = pd.read_csv('./data/car231.csv')\n",
    "# df.info()\n",
    "df"
   ]
  },
  {
   "cell_type": "code",
   "execution_count": 137,
   "metadata": {},
   "outputs": [
    {
     "data": {
      "image/png": "[encoded data removed]",
      "text/plain": [
       "<Figure size 1296x720 with 1 Axes>"
      ]
     },
     "metadata": {
      "needs_background": "light"
     },
     "output_type": "display_data"
    }
   ],
   "source": [
    "# Visualize initial data\n",
    "plt.figure(figsize=(18,10))\n",
    "plt.scatter(np.arange(0, df['CAR'].size, 1), df['CAR'])\n",
    "plt.xlabel('Moment in time')\n",
    "plt.ylabel('Car coordinate')\n",
    "plt.xticks(np.arange(0, df['CAR'].size, 20), np.arange(0, df['CAR'].size, 20))\n",
    "plt.show()"
   ]
  },
  {
   "cell_type": "markdown",
   "metadata": {},
   "source": [
    "Finding the outliers using IQR (Inter Quartile Range). IQR tells how spread the middle values are.  It can be used to tell when a value is too far from the middle.  \n",
    "An outlier is a point which falls more than 1.5 times the interquartile range above the third quartile or below the first quartile."
   ]
  },
  {
   "cell_type": "code",
   "execution_count": 138,
   "metadata": {},
   "outputs": [
    {
     "name": "stdout",
     "output_type": "stream",
     "text": [
      "Lower bound: -486.0\n",
      "Upper bound: 1082.0\n"
     ]
    }
   ],
   "source": [
    "df_s = df['CAR'].copy().values\n",
    "\n",
    "# Arranging data in increasing order\n",
    "df_s.sort()\n",
    "\n",
    "# Calculating first(Q1) and third quartile(Q3)\n",
    "Q1, Q3 = np.percentile(df_s, [25,75])\n",
    "\n",
    "# Finding interquartile range (q3-q1)\n",
    "IQR = Q3 - Q1\n",
    "\n",
    "# Finding lower bound Q1*1.5\n",
    "lower_bound = Q1 - (1.5 * IQR) \n",
    "\n",
    "# Finding upper bound Q3*1.5\n",
    "upper_bound = Q3 + (1.5 * IQR)\n",
    "\n",
    "print('Lower bound:', lower_bound)\n",
    "print('Upper bound:', upper_bound)"
   ]
  },
  {
   "cell_type": "code",
   "execution_count": 139,
   "metadata": {},
   "outputs": [
    {
     "name": "stdout",
     "output_type": "stream",
     "text": [
      "Outliers upper indexes: [ 10 481]\n",
      "Outliers lower indexes: []\n"
     ]
    }
   ],
   "source": [
    "# Anything that lies outside of lower and upper bound is an outlier\n",
    "outliers_upper_idxs = np.where(df['CAR'] >= upper_bound)[0]\n",
    "outliers_lower_idxs = np.where(df['CAR'] <= lower_bound)[0]\n",
    "\n",
    "print('Outliers upper indexes:', outliers_upper_idxs)\n",
    "print('Outliers lower indexes:', outliers_lower_idxs)"
   ]
  },
  {
   "cell_type": "code",
   "execution_count": 140,
   "metadata": {},
   "outputs": [
    {
     "name": "stdout",
     "output_type": "stream",
     "text": [
      "[10, 481]\n"
     ]
    }
   ],
   "source": [
    "outliers_idxs = list(outliers_upper_idxs) + list(outliers_lower_idxs)\n",
    "print(outliers_idxs)"
   ]
  },
  {
   "cell_type": "code",
   "execution_count": 141,
   "metadata": {},
   "outputs": [
    {
     "name": "stdout",
     "output_type": "stream",
     "text": [
      "before normalizing: 8071\n",
      "after normalizing 491\n",
      "before normalizing: 14029\n",
      "after normalizing 106\n"
     ]
    }
   ],
   "source": [
    "# If outliers either have index 0 or max size of array, then delete them,\n",
    "# otherwise replace outliers by the mean of two neighbouring values.\n",
    "if outliers_upper_idxs.size > 0:\n",
    "    for idx in outliers_upper_idxs:\n",
    "        if idx != 0 and idx != (df['CAR'].size-1):\n",
    "            print('before normalizing:', df['CAR'][idx])\n",
    "            df.loc[idx, 'CAR'] = (df['CAR'][idx-1] + df['CAR'][idx+1]) // 2\n",
    "            print('after normalizing', df['CAR'][idx])\n",
    "        else:\n",
    "            df.drop(index=[idx], inplace=True)"
   ]
  },
  {
   "cell_type": "code",
   "execution_count": 142,
   "metadata": {},
   "outputs": [],
   "source": [
    "line_single = df['LINE'].where(df['LINE_TYPE'] == 'SINGLE')\n",
    "line_interrupt = df['LINE'].where(df['LINE_TYPE'] == 'INTERRUPT')\n",
    "line_double = df['LINE'].where(df['LINE_TYPE'] == 'DOUBLE')"
   ]
  },
  {
   "cell_type": "code",
   "execution_count": 143,
   "metadata": {},
   "outputs": [
    {
     "data": {
      "image/png": "[encoded data removed]",
      "text/plain": [
       "<Figure size 1296x720 with 1 Axes>"
      ]
     },
     "metadata": {
      "needs_background": "light"
     },
     "output_type": "display_data"
    }
   ],
   "source": [
    "plt.figure(figsize=(18,10))\n",
    "plt.plot(np.arange(0, df['CAR'].size, 1), df['CAR'], label='Автомобиль')\n",
    "plt.plot(line_single, label='SINGLE (Сплошная линия)')\n",
    "plt.plot(line_interrupt, label='INTERRUPT (Прерывистая линий)')\n",
    "plt.plot(line_double, label='DOUBLE (Двойная сплошная)')\n",
    "plt.legend(loc='best')\n",
    "plt.xlabel('Moment in time')\n",
    "plt.ylabel('Coordinate')\n",
    "plt.grid(linewidth=0.5, alpha=0.5)\n",
    "plt.xticks(np.arange(0, df['CAR'].size, 20), np.arange(0, df['CAR'].size, 20))\n",
    "plt.yticks(np.arange(0, df.shape[0]+41, 20), np.arange(0, df.shape[0]+41, 20))\n",
    "plt.show()"
   ]
  },
  {
   "cell_type": "code",
   "execution_count": 144,
   "metadata": {},
   "outputs": [],
   "source": [
    "# Each list contain coordinates where car intersects the line\n",
    "intersections_single = []\n",
    "intersections_interrupt = []\n",
    "intersections_double = []"
   ]
  },
  {
   "cell_type": "code",
   "execution_count": 145,
   "metadata": {},
   "outputs": [],
   "source": [
    "for index, row in df.iterrows():\n",
    "    if index == 0:\n",
    "        continue\n",
    "    else:\n",
    "        # Detect intersection\n",
    "        if df['CAR'][index] >= df['LINE'][index] and df['CAR'][index-1] < df['LINE'][index-1] \\\n",
    "        or df['CAR'][index] <= df['LINE'][index] and df['CAR'][index-1] > df['LINE'][index-1]:\n",
    "            if df['LINE_TYPE'][index] == 'SINGLE':\n",
    "                intersections_single.append(df['CAR'][index])\n",
    "            elif df['LINE_TYPE'][index] == 'INTERRUPT':\n",
    "                intersections_interrupt.append(df['CAR'][index])\n",
    "            elif df['LINE_TYPE'][index] == 'DOUBLE':\n",
    "                intersections_double.append(df['CAR'][index])"
   ]
  },
  {
   "cell_type": "markdown",
   "metadata": {},
   "source": [
    "#### Кол-во пересечений SINGLE линии:"
   ]
  },
  {
   "cell_type": "code",
   "execution_count": 146,
   "metadata": {},
   "outputs": [
    {
     "data": {
      "text/plain": [
       "0"
      ]
     },
     "execution_count": 146,
     "metadata": {},
     "output_type": "execute_result"
    }
   ],
   "source": [
    "len(intersections_single)"
   ]
  },
  {
   "cell_type": "markdown",
   "metadata": {},
   "source": [
    "#### Кол-во пересечений INTERRUPT линии:"
   ]
  },
  {
   "cell_type": "code",
   "execution_count": 147,
   "metadata": {},
   "outputs": [
    {
     "data": {
      "text/plain": [
       "4"
      ]
     },
     "execution_count": 147,
     "metadata": {},
     "output_type": "execute_result"
    }
   ],
   "source": [
    "len(intersections_interrupt)"
   ]
  },
  {
   "cell_type": "markdown",
   "metadata": {},
   "source": [
    "#### Кол-во пересечений DOUBLE линии:"
   ]
  },
  {
   "cell_type": "code",
   "execution_count": 148,
   "metadata": {},
   "outputs": [
    {
     "data": {
      "text/plain": [
       "0"
      ]
     },
     "execution_count": 148,
     "metadata": {},
     "output_type": "execute_result"
    }
   ],
   "source": [
    "len(intersections_double)"
   ]
  },
  {
   "cell_type": "code",
   "execution_count": null,
   "metadata": {},
   "outputs": [],
   "source": []
  }
 ],
 "metadata": {
  "kernelspec": {
   "display_name": "Python 3",
   "language": "python",
   "name": "python3"
  },
  "language_info": {
   "codemirror_mode": {
    "name": "ipython",
    "version": 3
   },
   "file_extension": ".py",
   "mimetype": "text/x-python",
   "name": "python",
   "nbconvert_exporter": "python",
   "pygments_lexer": "ipython3",
   "version": "3.8.2"
  }
 },
 "nbformat": 4,
 "nbformat_minor": 4
}
